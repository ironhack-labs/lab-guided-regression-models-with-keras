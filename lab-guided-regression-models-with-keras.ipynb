{
 "cells": [
  {
   "cell_type": "markdown",
   "metadata": {},
   "source": [
    "<h1> Guided lab: Regression Models with Keras</h1>\n",
    "\n",
    "Objective for this Notebook\n",
    "\n",
    "- How to use the Tensorflow API, Keras, to build a regression model.\n",
    "- Download and Clean dataset\n",
    "- Build a Neural Network\n",
    "- Train and Test the Network   "
   ]
  },
  {
   "cell_type": "markdown",
   "metadata": {},
   "source": [
    "## Table of Contents\n",
    "\n",
    "<div class=\"alert alert-block alert-info\" style=\"margin-top: 20px\">\n",
    "\n",
    "<font size = 3>\n",
    "    \n",
    "1. <a href=\"#item31\">Download and Clean Dataset</a>  \n",
    "2. <a href=\"#item32\">Import Keras</a>  \n",
    "3. <a href=\"#item33\">Build a Neural Network</a>  \n",
    "4. <a href=\"#item34\">Train and Test the Network</a>  \n",
    "\n",
    "</font>\n",
    "</div>\n"
   ]
  },
  {
   "cell_type": "markdown",
   "metadata": {},
   "source": [
    "<a id=\"item31\"></a>\n"
   ]
  },
  {
   "cell_type": "markdown",
   "metadata": {},
   "source": [
    "## Download and Clean Dataset\n"
   ]
  },
  {
   "cell_type": "markdown",
   "metadata": {},
   "source": [
    "Let's start by importing the <em>pandas</em> and the Numpy libraries.\n"
   ]
  },
  {
   "cell_type": "code",
   "execution_count": 1,
   "metadata": {},
   "outputs": [],
   "source": [
    "import pandas as pd\n",
    "import numpy as np"
   ]
  },
  {
   "cell_type": "markdown",
   "metadata": {},
   "source": [
    "We will be playing around with the same dataset that we used in the videos.\n",
    "\n",
    "<strong>The dataset is about the compressive strength of different samples of concrete based on the volumes of the different ingredients that were used to make them. Ingredients include:</strong>\n",
    "\n",
    "<strong>1. Cement</strong>\n",
    "\n",
    "<strong>2. Blast Furnace Slag</strong>\n",
    "\n",
    "<strong>3. Fly Ash</strong>\n",
    "\n",
    "<strong>4. Water</strong>\n",
    "\n",
    "<strong>5. Superplasticizer</strong>\n",
    "\n",
    "<strong>6. Coarse Aggregate</strong>\n",
    "\n",
    "<strong>7. Fine Aggregate</strong>\n"
   ]
  },
  {
   "cell_type": "markdown",
   "metadata": {},
   "source": [
    "Let's download the data and read it into a <em>pandas</em> dataframe.\n"
   ]
  },
  {
   "cell_type": "code",
   "execution_count": 2,
   "metadata": {},
   "outputs": [
    {
     "data": {
      "text/html": [
       "<div>\n",
       "<style scoped>\n",
       "    .dataframe tbody tr th:only-of-type {\n",
       "        vertical-align: middle;\n",
       "    }\n",
       "\n",
       "    .dataframe tbody tr th {\n",
       "        vertical-align: top;\n",
       "    }\n",
       "\n",
       "    .dataframe thead th {\n",
       "        text-align: right;\n",
       "    }\n",
       "</style>\n",
       "<table border=\"1\" class=\"dataframe\">\n",
       "  <thead>\n",
       "    <tr style=\"text-align: right;\">\n",
       "      <th></th>\n",
       "      <th>Cement</th>\n",
       "      <th>Blast Furnace Slag</th>\n",
       "      <th>Fly Ash</th>\n",
       "      <th>Water</th>\n",
       "      <th>Superplasticizer</th>\n",
       "      <th>Coarse Aggregate</th>\n",
       "      <th>Fine Aggregate</th>\n",
       "      <th>Age</th>\n",
       "      <th>Strength</th>\n",
       "    </tr>\n",
       "  </thead>\n",
       "  <tbody>\n",
       "    <tr>\n",
       "      <th>0</th>\n",
       "      <td>540.0</td>\n",
       "      <td>0.0</td>\n",
       "      <td>0.0</td>\n",
       "      <td>162.0</td>\n",
       "      <td>2.5</td>\n",
       "      <td>1040.0</td>\n",
       "      <td>676.0</td>\n",
       "      <td>28</td>\n",
       "      <td>79.99</td>\n",
       "    </tr>\n",
       "    <tr>\n",
       "      <th>1</th>\n",
       "      <td>540.0</td>\n",
       "      <td>0.0</td>\n",
       "      <td>0.0</td>\n",
       "      <td>162.0</td>\n",
       "      <td>2.5</td>\n",
       "      <td>1055.0</td>\n",
       "      <td>676.0</td>\n",
       "      <td>28</td>\n",
       "      <td>61.89</td>\n",
       "    </tr>\n",
       "    <tr>\n",
       "      <th>2</th>\n",
       "      <td>332.5</td>\n",
       "      <td>142.5</td>\n",
       "      <td>0.0</td>\n",
       "      <td>228.0</td>\n",
       "      <td>0.0</td>\n",
       "      <td>932.0</td>\n",
       "      <td>594.0</td>\n",
       "      <td>270</td>\n",
       "      <td>40.27</td>\n",
       "    </tr>\n",
       "    <tr>\n",
       "      <th>3</th>\n",
       "      <td>332.5</td>\n",
       "      <td>142.5</td>\n",
       "      <td>0.0</td>\n",
       "      <td>228.0</td>\n",
       "      <td>0.0</td>\n",
       "      <td>932.0</td>\n",
       "      <td>594.0</td>\n",
       "      <td>365</td>\n",
       "      <td>41.05</td>\n",
       "    </tr>\n",
       "    <tr>\n",
       "      <th>4</th>\n",
       "      <td>198.6</td>\n",
       "      <td>132.4</td>\n",
       "      <td>0.0</td>\n",
       "      <td>192.0</td>\n",
       "      <td>0.0</td>\n",
       "      <td>978.4</td>\n",
       "      <td>825.5</td>\n",
       "      <td>360</td>\n",
       "      <td>44.30</td>\n",
       "    </tr>\n",
       "  </tbody>\n",
       "</table>\n",
       "</div>"
      ],
      "text/plain": [
       "   Cement  Blast Furnace Slag  Fly Ash  Water  Superplasticizer  \\\n",
       "0   540.0                 0.0      0.0  162.0               2.5   \n",
       "1   540.0                 0.0      0.0  162.0               2.5   \n",
       "2   332.5               142.5      0.0  228.0               0.0   \n",
       "3   332.5               142.5      0.0  228.0               0.0   \n",
       "4   198.6               132.4      0.0  192.0               0.0   \n",
       "\n",
       "   Coarse Aggregate  Fine Aggregate  Age  Strength  \n",
       "0            1040.0           676.0   28     79.99  \n",
       "1            1055.0           676.0   28     61.89  \n",
       "2             932.0           594.0  270     40.27  \n",
       "3             932.0           594.0  365     41.05  \n",
       "4             978.4           825.5  360     44.30  "
      ]
     },
     "execution_count": 2,
     "metadata": {},
     "output_type": "execute_result"
    }
   ],
   "source": [
    "concrete_data = pd.read_csv('https://s3-api.us-geo.objectstorage.softlayer.net/cf-courses-data/CognitiveClass/DL0101EN/labs/data/concrete_data.csv')\n",
    "concrete_data.head()"
   ]
  },
  {
   "cell_type": "markdown",
   "metadata": {},
   "source": [
    "So the first concrete sample has 540 cubic meter of cement, 0 cubic meter of blast furnace slag, 0 cubic meter of fly ash, 162 cubic meter of water, 2.5 cubic meter of superplaticizer, 1040 cubic meter of coarse aggregate, 676 cubic meter of fine aggregate. Such a concrete mix which is 28 days old, has a compressive strength of 79.99 MPa. \n"
   ]
  },
  {
   "cell_type": "markdown",
   "metadata": {},
   "source": [
    "#### Let's check how many data points we have.\n"
   ]
  },
  {
   "cell_type": "code",
   "execution_count": 3,
   "metadata": {},
   "outputs": [
    {
     "data": {
      "text/plain": [
       "(1030, 9)"
      ]
     },
     "execution_count": 3,
     "metadata": {},
     "output_type": "execute_result"
    }
   ],
   "source": [
    "concrete_data.shape"
   ]
  },
  {
   "cell_type": "markdown",
   "metadata": {},
   "source": [
    "So, there are approximately 1000 samples to train our model on. Because of the few samples, we have to be careful not to overfit the training data.\n"
   ]
  },
  {
   "cell_type": "markdown",
   "metadata": {},
   "source": [
    "Let's check the dataset for any missing values.\n"
   ]
  },
  {
   "cell_type": "code",
   "execution_count": 4,
   "metadata": {},
   "outputs": [
    {
     "data": {
      "text/html": [
       "<div>\n",
       "<style scoped>\n",
       "    .dataframe tbody tr th:only-of-type {\n",
       "        vertical-align: middle;\n",
       "    }\n",
       "\n",
       "    .dataframe tbody tr th {\n",
       "        vertical-align: top;\n",
       "    }\n",
       "\n",
       "    .dataframe thead th {\n",
       "        text-align: right;\n",
       "    }\n",
       "</style>\n",
       "<table border=\"1\" class=\"dataframe\">\n",
       "  <thead>\n",
       "    <tr style=\"text-align: right;\">\n",
       "      <th></th>\n",
       "      <th>Cement</th>\n",
       "      <th>Blast Furnace Slag</th>\n",
       "      <th>Fly Ash</th>\n",
       "      <th>Water</th>\n",
       "      <th>Superplasticizer</th>\n",
       "      <th>Coarse Aggregate</th>\n",
       "      <th>Fine Aggregate</th>\n",
       "      <th>Age</th>\n",
       "      <th>Strength</th>\n",
       "    </tr>\n",
       "  </thead>\n",
       "  <tbody>\n",
       "    <tr>\n",
       "      <th>count</th>\n",
       "      <td>1030.000000</td>\n",
       "      <td>1030.000000</td>\n",
       "      <td>1030.000000</td>\n",
       "      <td>1030.000000</td>\n",
       "      <td>1030.000000</td>\n",
       "      <td>1030.000000</td>\n",
       "      <td>1030.000000</td>\n",
       "      <td>1030.000000</td>\n",
       "      <td>1030.000000</td>\n",
       "    </tr>\n",
       "    <tr>\n",
       "      <th>mean</th>\n",
       "      <td>281.167864</td>\n",
       "      <td>73.895825</td>\n",
       "      <td>54.188350</td>\n",
       "      <td>181.567282</td>\n",
       "      <td>6.204660</td>\n",
       "      <td>972.918932</td>\n",
       "      <td>773.580485</td>\n",
       "      <td>45.662136</td>\n",
       "      <td>35.817961</td>\n",
       "    </tr>\n",
       "    <tr>\n",
       "      <th>std</th>\n",
       "      <td>104.506364</td>\n",
       "      <td>86.279342</td>\n",
       "      <td>63.997004</td>\n",
       "      <td>21.354219</td>\n",
       "      <td>5.973841</td>\n",
       "      <td>77.753954</td>\n",
       "      <td>80.175980</td>\n",
       "      <td>63.169912</td>\n",
       "      <td>16.705742</td>\n",
       "    </tr>\n",
       "    <tr>\n",
       "      <th>min</th>\n",
       "      <td>102.000000</td>\n",
       "      <td>0.000000</td>\n",
       "      <td>0.000000</td>\n",
       "      <td>121.800000</td>\n",
       "      <td>0.000000</td>\n",
       "      <td>801.000000</td>\n",
       "      <td>594.000000</td>\n",
       "      <td>1.000000</td>\n",
       "      <td>2.330000</td>\n",
       "    </tr>\n",
       "    <tr>\n",
       "      <th>25%</th>\n",
       "      <td>192.375000</td>\n",
       "      <td>0.000000</td>\n",
       "      <td>0.000000</td>\n",
       "      <td>164.900000</td>\n",
       "      <td>0.000000</td>\n",
       "      <td>932.000000</td>\n",
       "      <td>730.950000</td>\n",
       "      <td>7.000000</td>\n",
       "      <td>23.710000</td>\n",
       "    </tr>\n",
       "    <tr>\n",
       "      <th>50%</th>\n",
       "      <td>272.900000</td>\n",
       "      <td>22.000000</td>\n",
       "      <td>0.000000</td>\n",
       "      <td>185.000000</td>\n",
       "      <td>6.400000</td>\n",
       "      <td>968.000000</td>\n",
       "      <td>779.500000</td>\n",
       "      <td>28.000000</td>\n",
       "      <td>34.445000</td>\n",
       "    </tr>\n",
       "    <tr>\n",
       "      <th>75%</th>\n",
       "      <td>350.000000</td>\n",
       "      <td>142.950000</td>\n",
       "      <td>118.300000</td>\n",
       "      <td>192.000000</td>\n",
       "      <td>10.200000</td>\n",
       "      <td>1029.400000</td>\n",
       "      <td>824.000000</td>\n",
       "      <td>56.000000</td>\n",
       "      <td>46.135000</td>\n",
       "    </tr>\n",
       "    <tr>\n",
       "      <th>max</th>\n",
       "      <td>540.000000</td>\n",
       "      <td>359.400000</td>\n",
       "      <td>200.100000</td>\n",
       "      <td>247.000000</td>\n",
       "      <td>32.200000</td>\n",
       "      <td>1145.000000</td>\n",
       "      <td>992.600000</td>\n",
       "      <td>365.000000</td>\n",
       "      <td>82.600000</td>\n",
       "    </tr>\n",
       "  </tbody>\n",
       "</table>\n",
       "</div>"
      ],
      "text/plain": [
       "            Cement  Blast Furnace Slag      Fly Ash        Water  \\\n",
       "count  1030.000000         1030.000000  1030.000000  1030.000000   \n",
       "mean    281.167864           73.895825    54.188350   181.567282   \n",
       "std     104.506364           86.279342    63.997004    21.354219   \n",
       "min     102.000000            0.000000     0.000000   121.800000   \n",
       "25%     192.375000            0.000000     0.000000   164.900000   \n",
       "50%     272.900000           22.000000     0.000000   185.000000   \n",
       "75%     350.000000          142.950000   118.300000   192.000000   \n",
       "max     540.000000          359.400000   200.100000   247.000000   \n",
       "\n",
       "       Superplasticizer  Coarse Aggregate  Fine Aggregate          Age  \\\n",
       "count       1030.000000       1030.000000     1030.000000  1030.000000   \n",
       "mean           6.204660        972.918932      773.580485    45.662136   \n",
       "std            5.973841         77.753954       80.175980    63.169912   \n",
       "min            0.000000        801.000000      594.000000     1.000000   \n",
       "25%            0.000000        932.000000      730.950000     7.000000   \n",
       "50%            6.400000        968.000000      779.500000    28.000000   \n",
       "75%           10.200000       1029.400000      824.000000    56.000000   \n",
       "max           32.200000       1145.000000      992.600000   365.000000   \n",
       "\n",
       "          Strength  \n",
       "count  1030.000000  \n",
       "mean     35.817961  \n",
       "std      16.705742  \n",
       "min       2.330000  \n",
       "25%      23.710000  \n",
       "50%      34.445000  \n",
       "75%      46.135000  \n",
       "max      82.600000  "
      ]
     },
     "execution_count": 4,
     "metadata": {},
     "output_type": "execute_result"
    }
   ],
   "source": [
    "concrete_data.describe()"
   ]
  },
  {
   "cell_type": "code",
   "execution_count": 5,
   "metadata": {},
   "outputs": [
    {
     "data": {
      "text/plain": [
       "Cement                0\n",
       "Blast Furnace Slag    0\n",
       "Fly Ash               0\n",
       "Water                 0\n",
       "Superplasticizer      0\n",
       "Coarse Aggregate      0\n",
       "Fine Aggregate        0\n",
       "Age                   0\n",
       "Strength              0\n",
       "dtype: int64"
      ]
     },
     "execution_count": 5,
     "metadata": {},
     "output_type": "execute_result"
    }
   ],
   "source": [
    "concrete_data.isnull().sum()"
   ]
  },
  {
   "cell_type": "markdown",
   "metadata": {},
   "source": [
    "The data looks very clean and is ready to be used to build our model.\n"
   ]
  },
  {
   "cell_type": "markdown",
   "metadata": {},
   "source": [
    "#### Split data into predictors and target\n"
   ]
  },
  {
   "cell_type": "markdown",
   "metadata": {},
   "source": [
    "The target variable in this problem is the concrete sample strength. Therefore, our predictors will be all the other columns.\n"
   ]
  },
  {
   "cell_type": "code",
   "execution_count": 6,
   "metadata": {},
   "outputs": [],
   "source": [
    "concrete_data_columns = concrete_data.columns\n",
    "\n",
    "predictors = concrete_data[concrete_data_columns[concrete_data_columns != 'Strength']] # all columns except Strength\n",
    "target = concrete_data['Strength'] # Strength column"
   ]
  },
  {
   "cell_type": "markdown",
   "metadata": {},
   "source": [
    "<a id=\"item2\"></a>\n"
   ]
  },
  {
   "cell_type": "markdown",
   "metadata": {},
   "source": [
    "Let's do a quick sanity check of the predictors and the target dataframes.\n"
   ]
  },
  {
   "cell_type": "code",
   "execution_count": 7,
   "metadata": {},
   "outputs": [
    {
     "data": {
      "text/html": [
       "<div>\n",
       "<style scoped>\n",
       "    .dataframe tbody tr th:only-of-type {\n",
       "        vertical-align: middle;\n",
       "    }\n",
       "\n",
       "    .dataframe tbody tr th {\n",
       "        vertical-align: top;\n",
       "    }\n",
       "\n",
       "    .dataframe thead th {\n",
       "        text-align: right;\n",
       "    }\n",
       "</style>\n",
       "<table border=\"1\" class=\"dataframe\">\n",
       "  <thead>\n",
       "    <tr style=\"text-align: right;\">\n",
       "      <th></th>\n",
       "      <th>Cement</th>\n",
       "      <th>Blast Furnace Slag</th>\n",
       "      <th>Fly Ash</th>\n",
       "      <th>Water</th>\n",
       "      <th>Superplasticizer</th>\n",
       "      <th>Coarse Aggregate</th>\n",
       "      <th>Fine Aggregate</th>\n",
       "      <th>Age</th>\n",
       "    </tr>\n",
       "  </thead>\n",
       "  <tbody>\n",
       "    <tr>\n",
       "      <th>0</th>\n",
       "      <td>540.0</td>\n",
       "      <td>0.0</td>\n",
       "      <td>0.0</td>\n",
       "      <td>162.0</td>\n",
       "      <td>2.5</td>\n",
       "      <td>1040.0</td>\n",
       "      <td>676.0</td>\n",
       "      <td>28</td>\n",
       "    </tr>\n",
       "    <tr>\n",
       "      <th>1</th>\n",
       "      <td>540.0</td>\n",
       "      <td>0.0</td>\n",
       "      <td>0.0</td>\n",
       "      <td>162.0</td>\n",
       "      <td>2.5</td>\n",
       "      <td>1055.0</td>\n",
       "      <td>676.0</td>\n",
       "      <td>28</td>\n",
       "    </tr>\n",
       "    <tr>\n",
       "      <th>2</th>\n",
       "      <td>332.5</td>\n",
       "      <td>142.5</td>\n",
       "      <td>0.0</td>\n",
       "      <td>228.0</td>\n",
       "      <td>0.0</td>\n",
       "      <td>932.0</td>\n",
       "      <td>594.0</td>\n",
       "      <td>270</td>\n",
       "    </tr>\n",
       "    <tr>\n",
       "      <th>3</th>\n",
       "      <td>332.5</td>\n",
       "      <td>142.5</td>\n",
       "      <td>0.0</td>\n",
       "      <td>228.0</td>\n",
       "      <td>0.0</td>\n",
       "      <td>932.0</td>\n",
       "      <td>594.0</td>\n",
       "      <td>365</td>\n",
       "    </tr>\n",
       "    <tr>\n",
       "      <th>4</th>\n",
       "      <td>198.6</td>\n",
       "      <td>132.4</td>\n",
       "      <td>0.0</td>\n",
       "      <td>192.0</td>\n",
       "      <td>0.0</td>\n",
       "      <td>978.4</td>\n",
       "      <td>825.5</td>\n",
       "      <td>360</td>\n",
       "    </tr>\n",
       "  </tbody>\n",
       "</table>\n",
       "</div>"
      ],
      "text/plain": [
       "   Cement  Blast Furnace Slag  Fly Ash  Water  Superplasticizer  \\\n",
       "0   540.0                 0.0      0.0  162.0               2.5   \n",
       "1   540.0                 0.0      0.0  162.0               2.5   \n",
       "2   332.5               142.5      0.0  228.0               0.0   \n",
       "3   332.5               142.5      0.0  228.0               0.0   \n",
       "4   198.6               132.4      0.0  192.0               0.0   \n",
       "\n",
       "   Coarse Aggregate  Fine Aggregate  Age  \n",
       "0            1040.0           676.0   28  \n",
       "1            1055.0           676.0   28  \n",
       "2             932.0           594.0  270  \n",
       "3             932.0           594.0  365  \n",
       "4             978.4           825.5  360  "
      ]
     },
     "execution_count": 7,
     "metadata": {},
     "output_type": "execute_result"
    }
   ],
   "source": [
    "predictors.head()"
   ]
  },
  {
   "cell_type": "code",
   "execution_count": 8,
   "metadata": {},
   "outputs": [
    {
     "data": {
      "text/plain": [
       "0    79.99\n",
       "1    61.89\n",
       "2    40.27\n",
       "3    41.05\n",
       "4    44.30\n",
       "Name: Strength, dtype: float64"
      ]
     },
     "execution_count": 8,
     "metadata": {},
     "output_type": "execute_result"
    }
   ],
   "source": [
    "target.head()"
   ]
  },
  {
   "cell_type": "markdown",
   "metadata": {},
   "source": [
    "Finally, the last step is to normalize the data by substracting the mean and dividing by the standard deviation.\n"
   ]
  },
  {
   "cell_type": "code",
   "execution_count": 9,
   "metadata": {},
   "outputs": [
    {
     "data": {
      "text/html": [
       "<div>\n",
       "<style scoped>\n",
       "    .dataframe tbody tr th:only-of-type {\n",
       "        vertical-align: middle;\n",
       "    }\n",
       "\n",
       "    .dataframe tbody tr th {\n",
       "        vertical-align: top;\n",
       "    }\n",
       "\n",
       "    .dataframe thead th {\n",
       "        text-align: right;\n",
       "    }\n",
       "</style>\n",
       "<table border=\"1\" class=\"dataframe\">\n",
       "  <thead>\n",
       "    <tr style=\"text-align: right;\">\n",
       "      <th></th>\n",
       "      <th>Cement</th>\n",
       "      <th>Blast Furnace Slag</th>\n",
       "      <th>Fly Ash</th>\n",
       "      <th>Water</th>\n",
       "      <th>Superplasticizer</th>\n",
       "      <th>Coarse Aggregate</th>\n",
       "      <th>Fine Aggregate</th>\n",
       "      <th>Age</th>\n",
       "    </tr>\n",
       "  </thead>\n",
       "  <tbody>\n",
       "    <tr>\n",
       "      <th>0</th>\n",
       "      <td>2.476712</td>\n",
       "      <td>-0.856472</td>\n",
       "      <td>-0.846733</td>\n",
       "      <td>-0.916319</td>\n",
       "      <td>-0.620147</td>\n",
       "      <td>0.862735</td>\n",
       "      <td>-1.217079</td>\n",
       "      <td>-0.279597</td>\n",
       "    </tr>\n",
       "    <tr>\n",
       "      <th>1</th>\n",
       "      <td>2.476712</td>\n",
       "      <td>-0.856472</td>\n",
       "      <td>-0.846733</td>\n",
       "      <td>-0.916319</td>\n",
       "      <td>-0.620147</td>\n",
       "      <td>1.055651</td>\n",
       "      <td>-1.217079</td>\n",
       "      <td>-0.279597</td>\n",
       "    </tr>\n",
       "    <tr>\n",
       "      <th>2</th>\n",
       "      <td>0.491187</td>\n",
       "      <td>0.795140</td>\n",
       "      <td>-0.846733</td>\n",
       "      <td>2.174405</td>\n",
       "      <td>-1.038638</td>\n",
       "      <td>-0.526262</td>\n",
       "      <td>-2.239829</td>\n",
       "      <td>3.551340</td>\n",
       "    </tr>\n",
       "    <tr>\n",
       "      <th>3</th>\n",
       "      <td>0.491187</td>\n",
       "      <td>0.795140</td>\n",
       "      <td>-0.846733</td>\n",
       "      <td>2.174405</td>\n",
       "      <td>-1.038638</td>\n",
       "      <td>-0.526262</td>\n",
       "      <td>-2.239829</td>\n",
       "      <td>5.055221</td>\n",
       "    </tr>\n",
       "    <tr>\n",
       "      <th>4</th>\n",
       "      <td>-0.790075</td>\n",
       "      <td>0.678079</td>\n",
       "      <td>-0.846733</td>\n",
       "      <td>0.488555</td>\n",
       "      <td>-1.038638</td>\n",
       "      <td>0.070492</td>\n",
       "      <td>0.647569</td>\n",
       "      <td>4.976069</td>\n",
       "    </tr>\n",
       "  </tbody>\n",
       "</table>\n",
       "</div>"
      ],
      "text/plain": [
       "     Cement  Blast Furnace Slag   Fly Ash     Water  Superplasticizer  \\\n",
       "0  2.476712           -0.856472 -0.846733 -0.916319         -0.620147   \n",
       "1  2.476712           -0.856472 -0.846733 -0.916319         -0.620147   \n",
       "2  0.491187            0.795140 -0.846733  2.174405         -1.038638   \n",
       "3  0.491187            0.795140 -0.846733  2.174405         -1.038638   \n",
       "4 -0.790075            0.678079 -0.846733  0.488555         -1.038638   \n",
       "\n",
       "   Coarse Aggregate  Fine Aggregate       Age  \n",
       "0          0.862735       -1.217079 -0.279597  \n",
       "1          1.055651       -1.217079 -0.279597  \n",
       "2         -0.526262       -2.239829  3.551340  \n",
       "3         -0.526262       -2.239829  5.055221  \n",
       "4          0.070492        0.647569  4.976069  "
      ]
     },
     "execution_count": 9,
     "metadata": {},
     "output_type": "execute_result"
    }
   ],
   "source": [
    "predictors_norm = (predictors - predictors.mean()) / predictors.std()\n",
    "predictors_norm.head()"
   ]
  },
  {
   "cell_type": "markdown",
   "metadata": {},
   "source": [
    "Let's save the number of predictors to *n_cols* since we will need this number when building our network.\n"
   ]
  },
  {
   "cell_type": "code",
   "execution_count": 10,
   "metadata": {},
   "outputs": [],
   "source": [
    "n_cols = predictors_norm.shape[1] # number of predictors"
   ]
  },
  {
   "cell_type": "markdown",
   "metadata": {},
   "source": [
    "<a id=\"item1\"></a>\n"
   ]
  },
  {
   "cell_type": "markdown",
   "metadata": {},
   "source": [
    "<a id='item32'></a>\n"
   ]
  },
  {
   "cell_type": "markdown",
   "metadata": {},
   "source": [
    "## Import Keras\n"
   ]
  },
  {
   "cell_type": "markdown",
   "metadata": {},
   "source": [
    "Recall from the videos that Keras normally runs on top of a low-level library such as TensorFlow. This means that to be able to use the Keras library, you will have to install TensorFlow first and when you import the Keras library, it will be explicitly displayed what backend was used to install the Keras library. In CC Labs, we used TensorFlow as the backend to install Keras, so it should clearly print that when we import Keras.\n"
   ]
  },
  {
   "cell_type": "markdown",
   "metadata": {},
   "source": [
    "#### Let's go ahead and import the Keras library\n"
   ]
  },
  {
   "cell_type": "code",
   "execution_count": 11,
   "metadata": {},
   "outputs": [],
   "source": [
    "from tensorflow import keras"
   ]
  },
  {
   "cell_type": "markdown",
   "metadata": {},
   "source": [
    "As you can see, the TensorFlow backend was used to install the Keras library.\n"
   ]
  },
  {
   "cell_type": "markdown",
   "metadata": {},
   "source": [
    "Let's import the rest of the packages from the Keras library that we will need to build our regressoin model.\n"
   ]
  },
  {
   "cell_type": "code",
   "execution_count": 14,
   "metadata": {},
   "outputs": [],
   "source": [
    "from keras.models import Sequential\n",
    "from keras.layers import Dense"
   ]
  },
  {
   "cell_type": "markdown",
   "metadata": {},
   "source": [
    "<a id='item33'></a>\n"
   ]
  },
  {
   "cell_type": "markdown",
   "metadata": {},
   "source": [
    "## Build a Neural Network\n"
   ]
  },
  {
   "cell_type": "markdown",
   "metadata": {},
   "source": [
    "Let's define a function that defines our regression model for us so that we can conveniently call it to create our model.\n"
   ]
  },
  {
   "cell_type": "code",
   "execution_count": 12,
   "metadata": {},
   "outputs": [],
   "source": [
    "# define regression model\n",
    "def regression_model():\n",
    "    # create model\n",
    "    model = Sequential()\n",
    "    model.add(Dense(50, activation='relu', input_shape=(n_cols,)))\n",
    "    model.add(Dense(50, activation='relu'))\n",
    "    model.add(Dense(1))\n",
    "    \n",
    "    # compile model\n",
    "    model.compile(optimizer='adam', loss='mean_squared_error')\n",
    "    return model"
   ]
  },
  {
   "cell_type": "markdown",
   "metadata": {},
   "source": [
    "The above function create a model that has two hidden layers, each of 50 hidden units.\n"
   ]
  },
  {
   "cell_type": "markdown",
   "metadata": {},
   "source": [
    "<a id=\"item4\"></a>\n"
   ]
  },
  {
   "cell_type": "markdown",
   "metadata": {},
   "source": [
    "<a id='item34'></a>\n"
   ]
  },
  {
   "cell_type": "markdown",
   "metadata": {},
   "source": [
    "## Train and Test the Network\n"
   ]
  },
  {
   "cell_type": "markdown",
   "metadata": {},
   "source": [
    "Let's call the function now to create our model.\n"
   ]
  },
  {
   "cell_type": "code",
   "execution_count": 15,
   "metadata": {},
   "outputs": [
    {
     "name": "stderr",
     "output_type": "stream",
     "text": [
      "/opt/anaconda3/lib/python3.12/site-packages/keras/src/layers/core/dense.py:87: UserWarning: Do not pass an `input_shape`/`input_dim` argument to a layer. When using Sequential models, prefer using an `Input(shape)` object as the first layer in the model instead.\n",
      "  super().__init__(activity_regularizer=activity_regularizer, **kwargs)\n"
     ]
    }
   ],
   "source": [
    "# build the model\n",
    "model = regression_model()"
   ]
  },
  {
   "cell_type": "markdown",
   "metadata": {},
   "source": [
    "Now we will split our data into training and testing with a 70%-30% split (test_size=0.3).   \n",
    "\n",
    "70% of our data will be used for training :\n",
    "\n",
    "X_train : Our training data containing the variables the model will use to learn how to predict.\n",
    "\n",
    "y_train : Our training data containing the labels.\n",
    "\n",
    "#\n",
    "30% of our data will be used for testing its performance metrics :\n",
    "\n",
    "X_test : Unseen data by the model, we will use it to make predictions with our trained model.\n",
    "\n",
    "y_test : The labels associated with X_test data, we will compare them with the predictions that our model provided as output when shown X_test and that way we will obtain performance metrics."
   ]
  },
  {
   "cell_type": "code",
   "execution_count": 16,
   "metadata": {},
   "outputs": [],
   "source": [
    "from sklearn.model_selection import train_test_split\n",
    "\n",
    "# Split the dataset into training and test sets\n",
    "X_train, X_test, y_train, y_test = train_test_split(predictors_norm, target, test_size=0.3, random_state=42)"
   ]
  },
  {
   "cell_type": "markdown",
   "metadata": {},
   "source": [
    "Next, we will train the model using the *fit* method. We will train the model for 100 epochs.\n"
   ]
  },
  {
   "cell_type": "code",
   "execution_count": 19,
   "metadata": {},
   "outputs": [
    {
     "name": "stdout",
     "output_type": "stream",
     "text": [
      "Epoch 1/100\n",
      "23/23 - 0s - 1ms/step - loss: 36.8878\n",
      "Epoch 2/100\n",
      "23/23 - 0s - 1ms/step - loss: 36.4671\n",
      "Epoch 3/100\n",
      "23/23 - 0s - 1ms/step - loss: 35.7429\n",
      "Epoch 4/100\n",
      "23/23 - 0s - 1ms/step - loss: 34.7099\n",
      "Epoch 5/100\n",
      "23/23 - 0s - 1ms/step - loss: 34.4584\n",
      "Epoch 6/100\n",
      "23/23 - 0s - 1ms/step - loss: 34.1251\n",
      "Epoch 7/100\n",
      "23/23 - 0s - 1ms/step - loss: 34.0632\n",
      "Epoch 8/100\n",
      "23/23 - 0s - 1ms/step - loss: 33.5290\n",
      "Epoch 9/100\n",
      "23/23 - 0s - 1ms/step - loss: 33.0816\n",
      "Epoch 10/100\n",
      "23/23 - 0s - 1ms/step - loss: 32.7817\n",
      "Epoch 11/100\n",
      "23/23 - 0s - 1ms/step - loss: 32.8995\n",
      "Epoch 12/100\n",
      "23/23 - 0s - 1ms/step - loss: 32.2396\n",
      "Epoch 13/100\n",
      "23/23 - 0s - 1ms/step - loss: 31.8208\n",
      "Epoch 14/100\n",
      "23/23 - 0s - 1ms/step - loss: 31.6025\n",
      "Epoch 15/100\n",
      "23/23 - 0s - 1ms/step - loss: 31.6271\n",
      "Epoch 16/100\n",
      "23/23 - 0s - 1ms/step - loss: 31.1039\n",
      "Epoch 17/100\n",
      "23/23 - 0s - 1ms/step - loss: 31.5896\n",
      "Epoch 18/100\n",
      "23/23 - 0s - 1ms/step - loss: 31.0564\n",
      "Epoch 19/100\n",
      "23/23 - 0s - 1ms/step - loss: 30.7568\n",
      "Epoch 20/100\n",
      "23/23 - 0s - 2ms/step - loss: 30.1724\n",
      "Epoch 21/100\n",
      "23/23 - 0s - 1ms/step - loss: 30.1002\n",
      "Epoch 22/100\n",
      "23/23 - 0s - 1ms/step - loss: 29.9926\n",
      "Epoch 23/100\n",
      "23/23 - 0s - 1ms/step - loss: 29.4916\n",
      "Epoch 24/100\n",
      "23/23 - 0s - 1ms/step - loss: 28.8900\n",
      "Epoch 25/100\n",
      "23/23 - 0s - 1ms/step - loss: 29.0493\n",
      "Epoch 26/100\n",
      "23/23 - 0s - 1ms/step - loss: 28.4494\n",
      "Epoch 27/100\n",
      "23/23 - 0s - 1ms/step - loss: 28.2722\n",
      "Epoch 28/100\n",
      "23/23 - 0s - 1ms/step - loss: 28.2489\n",
      "Epoch 29/100\n",
      "23/23 - 0s - 1ms/step - loss: 28.4821\n",
      "Epoch 30/100\n",
      "23/23 - 0s - 1ms/step - loss: 27.9645\n",
      "Epoch 31/100\n",
      "23/23 - 0s - 1ms/step - loss: 27.5681\n",
      "Epoch 32/100\n",
      "23/23 - 0s - 1ms/step - loss: 27.1498\n",
      "Epoch 33/100\n",
      "23/23 - 0s - 1ms/step - loss: 27.4191\n",
      "Epoch 34/100\n",
      "23/23 - 0s - 1ms/step - loss: 27.1198\n",
      "Epoch 35/100\n",
      "23/23 - 0s - 1ms/step - loss: 26.5662\n",
      "Epoch 36/100\n",
      "23/23 - 0s - 1ms/step - loss: 26.7575\n",
      "Epoch 37/100\n",
      "23/23 - 0s - 1ms/step - loss: 26.3409\n",
      "Epoch 38/100\n",
      "23/23 - 0s - 1ms/step - loss: 26.1899\n",
      "Epoch 39/100\n",
      "23/23 - 0s - 1ms/step - loss: 26.2260\n",
      "Epoch 40/100\n",
      "23/23 - 0s - 1ms/step - loss: 25.9291\n",
      "Epoch 41/100\n",
      "23/23 - 0s - 1ms/step - loss: 26.2774\n",
      "Epoch 42/100\n",
      "23/23 - 0s - 1ms/step - loss: 25.5153\n",
      "Epoch 43/100\n",
      "23/23 - 0s - 2ms/step - loss: 25.5442\n",
      "Epoch 44/100\n",
      "23/23 - 0s - 2ms/step - loss: 25.2087\n",
      "Epoch 45/100\n",
      "23/23 - 0s - 1ms/step - loss: 25.2385\n",
      "Epoch 46/100\n",
      "23/23 - 0s - 1ms/step - loss: 24.8248\n",
      "Epoch 47/100\n",
      "23/23 - 0s - 1ms/step - loss: 24.4494\n",
      "Epoch 48/100\n",
      "23/23 - 0s - 2ms/step - loss: 24.4997\n",
      "Epoch 49/100\n",
      "23/23 - 0s - 1ms/step - loss: 24.1704\n",
      "Epoch 50/100\n",
      "23/23 - 0s - 1ms/step - loss: 24.4325\n",
      "Epoch 51/100\n",
      "23/23 - 0s - 1ms/step - loss: 24.3855\n",
      "Epoch 52/100\n",
      "23/23 - 0s - 1ms/step - loss: 23.7274\n",
      "Epoch 53/100\n",
      "23/23 - 0s - 1ms/step - loss: 23.8205\n",
      "Epoch 54/100\n",
      "23/23 - 0s - 1ms/step - loss: 23.2110\n",
      "Epoch 55/100\n",
      "23/23 - 0s - 1ms/step - loss: 23.2619\n",
      "Epoch 56/100\n",
      "23/23 - 0s - 1ms/step - loss: 23.2588\n",
      "Epoch 57/100\n",
      "23/23 - 0s - 1ms/step - loss: 23.1767\n",
      "Epoch 58/100\n",
      "23/23 - 0s - 1ms/step - loss: 22.8577\n",
      "Epoch 59/100\n",
      "23/23 - 0s - 1ms/step - loss: 22.8078\n",
      "Epoch 60/100\n",
      "23/23 - 0s - 1ms/step - loss: 22.8494\n",
      "Epoch 61/100\n",
      "23/23 - 0s - 1ms/step - loss: 22.6033\n",
      "Epoch 62/100\n",
      "23/23 - 0s - 1ms/step - loss: 22.0471\n",
      "Epoch 63/100\n",
      "23/23 - 0s - 1ms/step - loss: 22.3619\n",
      "Epoch 64/100\n",
      "23/23 - 0s - 1ms/step - loss: 22.2998\n",
      "Epoch 65/100\n",
      "23/23 - 0s - 1ms/step - loss: 22.2898\n",
      "Epoch 66/100\n",
      "23/23 - 0s - 1ms/step - loss: 21.8879\n",
      "Epoch 67/100\n",
      "23/23 - 0s - 1ms/step - loss: 21.5747\n",
      "Epoch 68/100\n",
      "23/23 - 0s - 1ms/step - loss: 21.3853\n",
      "Epoch 69/100\n",
      "23/23 - 0s - 1ms/step - loss: 21.4126\n",
      "Epoch 70/100\n",
      "23/23 - 0s - 1ms/step - loss: 21.0206\n",
      "Epoch 71/100\n",
      "23/23 - 0s - 1ms/step - loss: 20.9604\n",
      "Epoch 72/100\n",
      "23/23 - 0s - 1ms/step - loss: 21.0730\n",
      "Epoch 73/100\n",
      "23/23 - 0s - 1ms/step - loss: 21.0321\n",
      "Epoch 74/100\n",
      "23/23 - 0s - 1ms/step - loss: 21.2256\n",
      "Epoch 75/100\n",
      "23/23 - 0s - 1ms/step - loss: 21.5451\n",
      "Epoch 76/100\n",
      "23/23 - 0s - 1ms/step - loss: 20.5532\n",
      "Epoch 77/100\n",
      "23/23 - 0s - 1ms/step - loss: 20.6160\n",
      "Epoch 78/100\n",
      "23/23 - 0s - 1ms/step - loss: 20.4238\n",
      "Epoch 79/100\n",
      "23/23 - 0s - 2ms/step - loss: 20.3839\n",
      "Epoch 80/100\n",
      "23/23 - 0s - 1ms/step - loss: 20.0573\n",
      "Epoch 81/100\n",
      "23/23 - 0s - 1ms/step - loss: 20.3458\n",
      "Epoch 82/100\n",
      "23/23 - 0s - 1ms/step - loss: 19.8818\n",
      "Epoch 83/100\n",
      "23/23 - 0s - 1ms/step - loss: 19.7433\n",
      "Epoch 84/100\n",
      "23/23 - 0s - 1ms/step - loss: 19.6350\n",
      "Epoch 85/100\n",
      "23/23 - 0s - 1ms/step - loss: 19.7217\n",
      "Epoch 86/100\n",
      "23/23 - 0s - 1ms/step - loss: 19.9854\n",
      "Epoch 87/100\n",
      "23/23 - 0s - 1ms/step - loss: 19.7021\n",
      "Epoch 88/100\n",
      "23/23 - 0s - 1ms/step - loss: 19.4007\n",
      "Epoch 89/100\n",
      "23/23 - 0s - 1ms/step - loss: 19.3691\n",
      "Epoch 90/100\n",
      "23/23 - 0s - 1ms/step - loss: 19.5652\n",
      "Epoch 91/100\n",
      "23/23 - 0s - 1ms/step - loss: 19.1416\n",
      "Epoch 92/100\n",
      "23/23 - 0s - 1ms/step - loss: 19.3974\n",
      "Epoch 93/100\n",
      "23/23 - 0s - 1ms/step - loss: 19.0131\n",
      "Epoch 94/100\n",
      "23/23 - 0s - 1ms/step - loss: 18.6230\n",
      "Epoch 95/100\n",
      "23/23 - 0s - 1ms/step - loss: 18.9910\n",
      "Epoch 96/100\n",
      "23/23 - 0s - 1ms/step - loss: 18.6253\n",
      "Epoch 97/100\n",
      "23/23 - 0s - 1ms/step - loss: 19.0523\n",
      "Epoch 98/100\n",
      "23/23 - 0s - 1ms/step - loss: 18.5877\n",
      "Epoch 99/100\n",
      "23/23 - 0s - 1ms/step - loss: 18.5974\n",
      "Epoch 100/100\n",
      "23/23 - 0s - 1ms/step - loss: 18.1897\n"
     ]
    },
    {
     "data": {
      "text/plain": [
       "<keras.src.callbacks.history.History at 0x2949f61e0>"
      ]
     },
     "execution_count": 19,
     "metadata": {},
     "output_type": "execute_result"
    }
   ],
   "source": [
    "# fit the model\n",
    "model.fit(X_train, y_train, epochs=100, verbose=2)"
   ]
  },
  {
   "cell_type": "markdown",
   "metadata": {},
   "source": [
    "### Now lets evaluate our model and get performance metrics !\n",
    "\n",
    "First, since our model only saw the training data and learned from it, we will make predictions on the unseen test set.\n",
    "\n",
    "y_pred are the predictions that our model generated from it's experience when shown the predictor variables of X_test.\n",
    "\n",
    "That way we can compare y_pred (predictions made by our model) with y_test (the real labels of X_test) and see the difference as performance metrics."
   ]
  },
  {
   "cell_type": "code",
   "execution_count": 21,
   "metadata": {},
   "outputs": [
    {
     "name": "stdout",
     "output_type": "stream",
     "text": [
      "\u001b[1m10/10\u001b[0m \u001b[32m━━━━━━━━━━━━━━━━━━━━\u001b[0m\u001b[37m\u001b[0m \u001b[1m0s\u001b[0m 1ms/step \n",
      "[[49.148273 ]\n",
      " [41.919556 ]\n",
      " [73.88489  ]\n",
      " [37.009586 ]\n",
      " [10.517466 ]\n",
      " [47.38465  ]\n",
      " [28.02279  ]\n",
      " [55.480587 ]\n",
      " [36.737713 ]\n",
      " [44.395424 ]\n",
      " [35.257187 ]\n",
      " [11.1215   ]\n",
      " [48.663948 ]\n",
      " [39.164406 ]\n",
      " [26.271183 ]\n",
      " [23.267351 ]\n",
      " [35.852005 ]\n",
      " [18.522327 ]\n",
      " [35.61833  ]\n",
      " [30.02516  ]\n",
      " [35.54825  ]\n",
      " [43.066193 ]\n",
      " [45.38877  ]\n",
      " [10.499597 ]\n",
      " [31.744091 ]\n",
      " [39.695713 ]\n",
      " [ 8.6166   ]\n",
      " [47.70857  ]\n",
      " [54.269794 ]\n",
      " [15.3789   ]\n",
      " [40.985245 ]\n",
      " [37.128643 ]\n",
      " [49.902443 ]\n",
      " [57.69473  ]\n",
      " [17.701818 ]\n",
      " [39.10597  ]\n",
      " [35.542107 ]\n",
      " [44.04312  ]\n",
      " [ 9.995124 ]\n",
      " [48.100105 ]\n",
      " [15.129813 ]\n",
      " [ 5.8859024]\n",
      " [37.414387 ]\n",
      " [52.77767  ]\n",
      " [13.809072 ]\n",
      " [73.81884  ]\n",
      " [47.763805 ]\n",
      " [35.90742  ]\n",
      " [26.434517 ]\n",
      " [ 7.8123846]\n",
      " [51.75686  ]\n",
      " [42.583    ]\n",
      " [26.18281  ]\n",
      " [12.997296 ]\n",
      " [45.903347 ]\n",
      " [38.467007 ]\n",
      " [27.585049 ]\n",
      " [11.110935 ]\n",
      " [38.182076 ]\n",
      " [19.792988 ]\n",
      " [44.352356 ]\n",
      " [16.870201 ]\n",
      " [38.092213 ]\n",
      " [45.040154 ]\n",
      " [29.368608 ]\n",
      " [15.369357 ]\n",
      " [36.936005 ]\n",
      " [13.396928 ]\n",
      " [33.655552 ]\n",
      " [23.392605 ]\n",
      " [11.314448 ]\n",
      " [26.620674 ]\n",
      " [ 7.761435 ]\n",
      " [35.14291  ]\n",
      " [30.505611 ]\n",
      " [ 9.720568 ]\n",
      " [48.792446 ]\n",
      " [54.207333 ]\n",
      " [63.387035 ]\n",
      " [10.119789 ]\n",
      " [48.211956 ]\n",
      " [35.284695 ]\n",
      " [37.889393 ]\n",
      " [35.054493 ]\n",
      " [46.4278   ]\n",
      " [37.009586 ]\n",
      " [33.699768 ]\n",
      " [38.51625  ]\n",
      " [25.076532 ]\n",
      " [19.091164 ]\n",
      " [30.94322  ]\n",
      " [71.4899   ]\n",
      " [14.473234 ]\n",
      " [52.85803  ]\n",
      " [44.21858  ]\n",
      " [47.06613  ]\n",
      " [25.03244  ]\n",
      " [36.793934 ]\n",
      " [19.038263 ]\n",
      " [34.332027 ]\n",
      " [25.033262 ]\n",
      " [44.75169  ]\n",
      " [42.635925 ]\n",
      " [23.724827 ]\n",
      " [80.20862  ]\n",
      " [ 9.726079 ]\n",
      " [57.311184 ]\n",
      " [34.073456 ]\n",
      " [38.661983 ]\n",
      " [63.80253  ]\n",
      " [58.59755  ]\n",
      " [47.9196   ]\n",
      " [29.623241 ]\n",
      " [41.512432 ]\n",
      " [33.909924 ]\n",
      " [55.991116 ]\n",
      " [17.72158  ]\n",
      " [32.796688 ]\n",
      " [55.72506  ]\n",
      " [44.26807  ]\n",
      " [18.172594 ]\n",
      " [28.24083  ]\n",
      " [50.036945 ]\n",
      " [38.88246  ]\n",
      " [21.710005 ]\n",
      " [40.41694  ]\n",
      " [53.894985 ]\n",
      " [41.76935  ]\n",
      " [42.268227 ]\n",
      " [36.850216 ]\n",
      " [11.071373 ]\n",
      " [33.61073  ]\n",
      " [16.254917 ]\n",
      " [73.3726   ]\n",
      " [ 8.494359 ]\n",
      " [43.467747 ]\n",
      " [31.24453  ]\n",
      " [39.461235 ]\n",
      " [20.512047 ]\n",
      " [36.04265  ]\n",
      " [28.589577 ]\n",
      " [38.14765  ]\n",
      " [17.83564  ]\n",
      " [31.531559 ]\n",
      " [52.050034 ]\n",
      " [40.81704  ]\n",
      " [28.250145 ]\n",
      " [12.110674 ]\n",
      " [ 6.8329554]\n",
      " [15.67396  ]\n",
      " [41.260525 ]\n",
      " [15.532448 ]\n",
      " [35.933743 ]\n",
      " [23.148483 ]\n",
      " [48.457573 ]\n",
      " [42.46053  ]\n",
      " [30.62547  ]\n",
      " [72.92696  ]\n",
      " [41.919556 ]\n",
      " [49.908157 ]\n",
      " [12.895756 ]\n",
      " [47.93504  ]\n",
      " [32.065895 ]\n",
      " [48.237137 ]\n",
      " [37.795246 ]\n",
      " [61.80398  ]\n",
      " [45.59778  ]\n",
      " [23.337444 ]\n",
      " [37.43876  ]\n",
      " [24.331808 ]\n",
      " [44.976715 ]\n",
      " [12.864186 ]\n",
      " [20.286797 ]\n",
      " [38.50358  ]\n",
      " [30.205908 ]\n",
      " [11.082863 ]\n",
      " [29.03633  ]\n",
      " [50.223648 ]\n",
      " [50.63887  ]\n",
      " [35.557606 ]\n",
      " [36.13712  ]\n",
      " [26.704996 ]\n",
      " [63.632744 ]\n",
      " [36.82749  ]\n",
      " [44.441715 ]\n",
      " [46.771988 ]\n",
      " [22.184408 ]\n",
      " [37.833538 ]\n",
      " [32.524834 ]\n",
      " [14.519918 ]\n",
      " [31.293533 ]\n",
      " [50.28038  ]\n",
      " [42.278763 ]\n",
      " [35.8827   ]\n",
      " [30.253323 ]\n",
      " [27.802114 ]\n",
      " [53.534107 ]\n",
      " [15.502848 ]\n",
      " [21.290693 ]\n",
      " [23.341108 ]\n",
      " [40.03328  ]\n",
      " [55.991116 ]\n",
      " [19.613432 ]\n",
      " [35.163174 ]\n",
      " [63.144604 ]\n",
      " [36.715034 ]\n",
      " [29.161596 ]\n",
      " [55.418114 ]\n",
      " [26.04688  ]\n",
      " [37.138054 ]\n",
      " [12.969589 ]\n",
      " [26.216337 ]\n",
      " [25.08229  ]\n",
      " [48.00506  ]\n",
      " [37.821465 ]\n",
      " [ 3.9875946]\n",
      " [11.55132  ]\n",
      " [36.50543  ]\n",
      " [22.721634 ]\n",
      " [67.2902   ]\n",
      " [29.840725 ]\n",
      " [57.278767 ]\n",
      " [52.71143  ]\n",
      " [18.51775  ]\n",
      " [47.633293 ]\n",
      " [20.957293 ]\n",
      " [41.7721   ]\n",
      " [22.292004 ]\n",
      " [22.497124 ]\n",
      " [27.726004 ]\n",
      " [10.077141 ]\n",
      " [ 9.424915 ]\n",
      " [40.244854 ]\n",
      " [42.276737 ]\n",
      " [36.240147 ]\n",
      " [33.112785 ]\n",
      " [31.434204 ]\n",
      " [28.616432 ]\n",
      " [48.264545 ]\n",
      " [16.37286  ]\n",
      " [30.764145 ]\n",
      " [38.09429  ]\n",
      " [53.796867 ]\n",
      " [29.506165 ]\n",
      " [71.7749   ]\n",
      " [33.814583 ]\n",
      " [79.32624  ]\n",
      " [18.069431 ]\n",
      " [47.508682 ]\n",
      " [63.010925 ]\n",
      " [37.63279  ]\n",
      " [39.810017 ]\n",
      " [40.031223 ]\n",
      " [29.621223 ]\n",
      " [38.39328  ]\n",
      " [16.252377 ]\n",
      " [32.146885 ]\n",
      " [18.862494 ]\n",
      " [21.515968 ]\n",
      " [27.00609  ]\n",
      " [17.43048  ]\n",
      " [52.870144 ]\n",
      " [22.574665 ]\n",
      " [32.364105 ]\n",
      " [12.737974 ]\n",
      " [61.045982 ]\n",
      " [56.233196 ]\n",
      " [29.943493 ]\n",
      " [34.8095   ]\n",
      " [44.745567 ]\n",
      " [16.615904 ]\n",
      " [15.921589 ]\n",
      " [22.572176 ]\n",
      " [31.414518 ]\n",
      " [31.553661 ]\n",
      " [37.795246 ]\n",
      " [33.795086 ]\n",
      " [20.587433 ]\n",
      " [41.635628 ]\n",
      " [30.680614 ]\n",
      " [36.835926 ]\n",
      " [27.38677  ]\n",
      " [10.8658905]\n",
      " [39.09815  ]\n",
      " [20.277218 ]\n",
      " [19.729069 ]\n",
      " [44.7735   ]\n",
      " [17.742134 ]\n",
      " [41.284145 ]\n",
      " [33.910168 ]\n",
      " [33.729923 ]\n",
      " [20.87546  ]\n",
      " [34.71462  ]\n",
      " [13.658371 ]\n",
      " [30.081003 ]\n",
      " [31.950924 ]\n",
      " [23.6565   ]\n",
      " [19.825443 ]\n",
      " [18.546913 ]\n",
      " [23.309492 ]\n",
      " [13.252853 ]\n",
      " [10.957291 ]\n",
      " [56.667404 ]\n",
      " [66.73355  ]\n",
      " [21.717014 ]\n",
      " [40.854443 ]\n",
      " [30.192924 ]\n",
      " [38.78582  ]\n",
      " [56.824165 ]]\n"
     ]
    }
   ],
   "source": [
    "# Make predictions on the test set\n",
    "y_pred = model.predict(X_test)\n",
    "\n",
    "print(y_pred)"
   ]
  },
  {
   "cell_type": "markdown",
   "metadata": {},
   "source": [
    "Since this is a regression model we will be using mean squared error, mean absolute error and the r squared score to evaluate it."
   ]
  },
  {
   "cell_type": "code",
   "execution_count": 24,
   "metadata": {},
   "outputs": [
    {
     "name": "stdout",
     "output_type": "stream",
     "text": [
      "Mean Squared Error (MSE): 30.4511\n",
      "Mean Absolute Error (MAE): 4.0764\n",
      "R² Score: 0.8875\n"
     ]
    }
   ],
   "source": [
    "# Calculate and print regression metrics\n",
    "from sklearn.metrics import mean_squared_error, mean_absolute_error, r2_score\n",
    "\n",
    "mse = mean_squared_error(y_test, y_pred)\n",
    "mae = mean_absolute_error(y_test, y_pred)\n",
    "r2 = r2_score(y_test, y_pred)\n",
    "\n",
    "print(f'Mean Squared Error (MSE): {mse:.4f}')\n",
    "print(f'Mean Absolute Error (MAE): {mae:.4f}')\n",
    "print(f'R² Score: {r2:.4f}')"
   ]
  },
  {
   "cell_type": "markdown",
   "metadata": {},
   "source": [
    "Feel free to vary the following and note what impact each change has on the model's performance:\n",
    "\n",
    "1. Increase or decreate number of neurons in hidden layers\n",
    "2. Add more hidden layers\n",
    "3. Increase number of epochs\n"
   ]
  },
  {
   "cell_type": "markdown",
   "metadata": {},
   "source": [
    "For other models, other types of performance metrics are more meaningfull. It all depends on context and the end goal of the model. \n",
    "\n",
    "Research, planning and analysing various metrics with a clearly defined end goal is key to understanding how capable a model is and what are his limitations.\n",
    "\n",
    "Keep that in mind when tackling the next exercises!"
   ]
  },
  {
   "cell_type": "markdown",
   "metadata": {},
   "source": [
    "### Thank you for following this tutorial!"
   ]
  }
 ],
 "metadata": {
  "kernelspec": {
   "display_name": "base",
   "language": "python",
   "name": "python3"
  },
  "language_info": {
   "codemirror_mode": {
    "name": "ipython",
    "version": 3
   },
   "file_extension": ".py",
   "mimetype": "text/x-python",
   "name": "python",
   "nbconvert_exporter": "python",
   "pygments_lexer": "ipython3",
   "version": "3.12.2"
  }
 },
 "nbformat": 4,
 "nbformat_minor": 4
}
